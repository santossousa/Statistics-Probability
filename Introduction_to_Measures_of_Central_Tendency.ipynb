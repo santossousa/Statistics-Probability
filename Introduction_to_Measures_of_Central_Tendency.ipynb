{
  "nbformat": 4,
  "nbformat_minor": 0,
  "metadata": {
    "colab": {
      "provenance": [],
      "authorship_tag": "ABX9TyMcdUyAkUXAfhSk8LLBID8/",
      "include_colab_link": true
    },
    "kernelspec": {
      "name": "python3",
      "display_name": "Python 3"
    },
    "language_info": {
      "name": "python"
    }
  },
  "cells": [
    {
      "cell_type": "markdown",
      "metadata": {
        "id": "view-in-github",
        "colab_type": "text"
      },
      "source": [
        "<a href=\"https://colab.research.google.com/github/santossousa/Statistics-Probability/blob/main/Introduction_to_Measures_of_Central_Tendency.ipynb\" target=\"_parent\"><img src=\"https://colab.research.google.com/assets/colab-badge.svg\" alt=\"Open In Colab\"/></a>"
      ]
    },
    {
      "cell_type": "markdown",
      "source": [
        "**Índices**\n",
        "\n",
        "- [Importação das libs](#libs)\n",
        "- [Media](#media)\n",
        "- [Mediana](#mediana)\n",
        "- [Moda](#moda)\n",
        "- [Percentil](#Percentil)\n",
        "- [Quartil](#quartil)\n",
        "\n",
        "\n",
        "\n"
      ],
      "metadata": {
        "id": "AXyGSMVgd1to"
      }
    },
    {
      "cell_type": "markdown",
      "source": [
        "<a name='libs'/>\n",
        "\n",
        "##Impotação das libs"
      ],
      "metadata": {
        "id": "iszvKkggTCqg"
      }
    },
    {
      "cell_type": "code",
      "source": [
        "import pandas as pd\n",
        "from IPython.display import display, Latex\n",
        "data = pd.Series([19,23,19,18,25,16,17,19,15,23,21,23,21,11,6,90])"
      ],
      "metadata": {
        "id": "LGILBtDqY4Mh"
      },
      "execution_count": 38,
      "outputs": []
    },
    {
      "cell_type": "markdown",
      "source": [
        "<a  name='media'/>\n",
        "\n",
        "##Média\n",
        "\n",
        "A média é o valor médio de um conjunto de dados. É calculado somando todos os valores em um conjunto de dados e dividindo pelo número de valores.\n",
        "\n",
        "### Propriedades da média\n",
        "- A soma dos desvios dos itens de sua média aritmética é sempre zero, ou seja, $∑(x – \\overline x) = 0.$\n",
        "- A soma dos desvios quadrados dos itens da Média Aritmética (A.M) é mínima, que é menor que a soma dos desvios quadrados dos itens de quaisquer outros valores.\n",
        "- Se cada item da série aritmética for substituído pela média, então a soma dessas substituições será igual à soma dos itens específicos.\n",
        "- É influenciado pelo valor de cada item da série.\n",
        "- É um valor medido e não baseado na posição na série.\n",
        "- É alterado por itens extremos, como itens muito pequenos e muito grandes. ou seja, sensível a outliers.\n",
        "- Raramente pode ser identificado por inspeção.\n",
        "- Em alguns casos, A.M. não representa o item original. Por exemplo, a média de pacientes internados em um hospital é de 10,7 por dia.\n",
        "- A média aritmética não é adequada em distribuições extremamente assimétricas."
      ],
      "metadata": {
        "id": "FfgN7YuFcHte"
      }
    },
    {
      "cell_type": "code",
      "source": [
        "data.mean()"
      ],
      "metadata": {
        "colab": {
          "base_uri": "https://localhost:8080/"
        },
        "id": "CMwQnO-yVgFC",
        "outputId": "07195288-f5bd-4df1-c14b-e09224ff7247"
      },
      "execution_count": 39,
      "outputs": [
        {
          "output_type": "execute_result",
          "data": {
            "text/plain": [
              "22.875"
            ]
          },
          "metadata": {},
          "execution_count": 39
        }
      ]
    },
    {
      "cell_type": "markdown",
      "source": [
        "<a name='mediana'/>\n",
        "\n",
        "\n",
        "##Mediana\n",
        "A mediana é o valor do meio de um conjunto de dados quando os valores são organizados em ordem de tamanho. Representa o percentil 50 dos valores.\n",
        "\n",
        "### Propriedades da Mediana\n",
        "- A mediana não depende de todos os valores de dados em um conjunto de dados.\n",
        "- O valor mediano é fixado pela sua posição e não é refletido pelo valor individual.\n",
        "- A distância entre a mediana e o restante dos valores é menor que a distância de qualquer outro ponto.\n",
        "- Cada matriz tem uma única mediana.\n",
        "- A mediana não pode ser manipulada algebricamente. Não pode ser pesado e combinado.\n",
        "- em um procedimento de agrupamento, a mediana é estável.\n",
        "- A mediana não é aplicável a dados qualitativos.\n",
        "- Os valores devem ser agrupados e ordenados para cálculo.\n",
        "- A mediana pode ser determinada para razão, intervalo e escala ordinal.\n",
        "- Outliers e dados distorcidos têm menos impacto na mediana.\n",
        "- Se a distribuição for assimétrica, a mediana é uma medida melhor quando comparada à média."
      ],
      "metadata": {
        "id": "74O5SohocKv0"
      }
    },
    {
      "cell_type": "code",
      "source": [
        "data.median()"
      ],
      "metadata": {
        "colab": {
          "base_uri": "https://localhost:8080/"
        },
        "id": "J19NTdA5VnYu",
        "outputId": "85ab066d-3d55-4a26-df61-24cb902ac5eb"
      },
      "execution_count": 3,
      "outputs": [
        {
          "output_type": "execute_result",
          "data": {
            "text/plain": [
              "19.0"
            ]
          },
          "metadata": {},
          "execution_count": 3
        }
      ]
    },
    {
      "cell_type": "markdown",
      "source": [
        "<a name='moda'/>\n",
        "\n",
        "##Moda\n",
        "A moda é o valor que ocorre com mais frequência em um conjunto de dados com valores discretos.\n",
        "\n",
        "### Propriedades do Moda\n",
        "- O modo é usado quando se deseja o caso mais típico.\n",
        "- A moda pode ser usada quando os dados são nominais ou categóricos, como preferência religiosa, gênero ou filiação política.\n",
        "- A moda nem sempre é única. Um conjunto de dados pode ter mais de uma moda ou a moda pode não existir para um conjunto de dados."
      ],
      "metadata": {
        "id": "PRlJb6TXcPql"
      }
    },
    {
      "cell_type": "code",
      "source": [
        "data.mode()"
      ],
      "metadata": {
        "colab": {
          "base_uri": "https://localhost:8080/"
        },
        "id": "ZyPeGU8KVrtA",
        "outputId": "25f4666f-ffb0-4a34-caec-d1376bbcc87a"
      },
      "execution_count": 4,
      "outputs": [
        {
          "output_type": "execute_result",
          "data": {
            "text/plain": [
              "0    19\n",
              "1    23\n",
              "dtype: int64"
            ]
          },
          "metadata": {},
          "execution_count": 4
        }
      ]
    },
    {
      "cell_type": "markdown",
      "source": [
        "<a name='percentil'/>\n",
        "\n",
        "##Percentil\n",
        "\n",
        "Um percentil é uma medida da porcentagem de valores abaixo de um valor específico. A mediana corresponde ao percentil 50."
      ],
      "metadata": {
        "id": "wZtHdo7lcSSy"
      }
    },
    {
      "cell_type": "code",
      "source": [
        "data.quantile(0.1)"
      ],
      "metadata": {
        "colab": {
          "base_uri": "https://localhost:8080/"
        },
        "id": "dcQIEww1VyWJ",
        "outputId": "177f7588-1616-4b1e-b436-394146a9a402"
      },
      "execution_count": 5,
      "outputs": [
        {
          "output_type": "execute_result",
          "data": {
            "text/plain": [
              "12.600000000000001"
            ]
          },
          "metadata": {},
          "execution_count": 5
        }
      ]
    },
    {
      "cell_type": "markdown",
      "source": [
        "<a name='quartil'/>\n",
        "\n",
        "##Quartil\n",
        "\n",
        "\n",
        "Um quartil é um valor que divide os valores em um conjunto de dados ordenado em quatro grupos iguais. $Q_1$ (ou o primeiro quartil) corresponde ao 25º percentil, $Q_2$ corresponde à mediana e $Q_3$ corresponde ao 75º percentil.\n",
        "\n"
      ],
      "metadata": {
        "id": "BuDBK4X7cYNb"
      }
    },
    {
      "cell_type": "code",
      "source": [
        "data = data.sort_values(ascending=True)\n",
        "data = data.reset_index(drop=True)\n",
        "Q_1 = data.quantile(0.25)\n",
        "Q_2 = data.quantile(0.5)\n",
        "Q_3 = data.quantile(0.75)\n",
        "display(Latex(f'$Q_1 = {Q_1}$'))\n",
        "display(Latex(f'$Q_2 = {Q_2}$'))\n",
        "display(Latex(f'$Q_3 = {Q_3}$'))"
      ],
      "metadata": {
        "colab": {
          "base_uri": "https://localhost:8080/",
          "height": 81
        },
        "id": "1Sc45M9tXT7Y",
        "outputId": "273beef6-4b70-4b60-b1eb-abb6e36ddf66"
      },
      "execution_count": 27,
      "outputs": [
        {
          "output_type": "display_data",
          "data": {
            "text/plain": [
              "<IPython.core.display.Latex object>"
            ],
            "text/latex": "$Q_1 = 16.5$"
          },
          "metadata": {}
        },
        {
          "output_type": "display_data",
          "data": {
            "text/plain": [
              "<IPython.core.display.Latex object>"
            ],
            "text/latex": "$Q_2 = 19.0$"
          },
          "metadata": {}
        },
        {
          "output_type": "display_data",
          "data": {
            "text/plain": [
              "<IPython.core.display.Latex object>"
            ],
            "text/latex": "$Q_3 = 22.0$"
          },
          "metadata": {}
        }
      ]
    },
    {
      "cell_type": "markdown",
      "source": [
        "\n",
        "\n",
        "##Média aparada\n",
        "Essa média é similar a média normal, mas ela não é sensivel a outliers"
      ],
      "metadata": {
        "id": "BQW3K9ThfsVj"
      }
    },
    {
      "cell_type": "code",
      "source": [
        "from scipy import stats\n",
        "stats.trim_mean(data, 0.1)"
      ],
      "metadata": {
        "colab": {
          "base_uri": "https://localhost:8080/"
        },
        "id": "wM3JdKjLaMF8",
        "outputId": "a3ff57eb-a0bf-469b-ed64-f527e043a0f3"
      },
      "execution_count": 40,
      "outputs": [
        {
          "output_type": "execute_result",
          "data": {
            "text/plain": [
              "19.285714285714285"
            ]
          },
          "metadata": {},
          "execution_count": 40
        }
      ]
    }
  ]
}