{
  "nbformat": 4,
  "nbformat_minor": 0,
  "metadata": {
    "colab": {
      "provenance": [],
      "authorship_tag": "ABX9TyNjKxJc1RLRk2KQHiHc8dB6",
      "include_colab_link": true
    },
    "kernelspec": {
      "name": "python3",
      "display_name": "Python 3"
    },
    "language_info": {
      "name": "python"
    }
  },
  "cells": [
    {
      "cell_type": "markdown",
      "metadata": {
        "id": "view-in-github",
        "colab_type": "text"
      },
      "source": [
        "<a href=\"https://colab.research.google.com/github/santossousa/Statistics-Probability/blob/main/Measures_of_Central_Tendency.ipynb\" target=\"_parent\"><img src=\"https://colab.research.google.com/assets/colab-badge.svg\" alt=\"Open In Colab\"/></a>"
      ]
    },
    {
      "cell_type": "markdown",
      "source": [
        "**Índices**\n",
        "\n",
        "- [Importação das libs](#libs)\n",
        "- [Media](#media)\n",
        "- [Mediana](#mediana)\n",
        "- [Moda](#moda)\n",
        "- [Percentil](#Percentil)\n",
        "- [Quartil](#quartil)\n",
        "- [Variância](#variancia)\n",
        "- [Desvio Padrão](#std)\n",
        "- [Assimetria](#assim)\n",
        "- [Curtose](#curtose)\n",
        "\n"
      ],
      "metadata": {
        "id": "AXyGSMVgd1to"
      }
    },
    {
      "cell_type": "markdown",
      "source": [
        "<a name='libs'/>\n",
        "\n",
        "##Impotação das libs"
      ],
      "metadata": {
        "id": "iszvKkggTCqg"
      }
    },
    {
      "cell_type": "code",
      "source": [
        "import pandas as pd\n",
        "from scipy import stats\n",
        "from IPython.display import display, Latex\n",
        "data = pd.Series([19,23,19,18,25,16,17,19,15,23,21,23,21,11,6])"
      ],
      "metadata": {
        "id": "LGILBtDqY4Mh"
      },
      "execution_count": 15,
      "outputs": []
    },
    {
      "cell_type": "markdown",
      "source": [
        "As medidas de dispersão fornecem uma medida quantitativa da dispersão de uma distribuição. Eles fornecem uma ideia se os valores em uma distribuição estão situados em torno do valor central ou espalhados. A seguir estão as medidas comumente usadas de\n",
        "dispersão."
      ],
      "metadata": {
        "id": "ihJxdoEuf8V3"
      }
    },
    {
      "cell_type": "markdown",
      "source": [
        "<a  name='media'/>\n",
        "\n",
        "##Média\n",
        "\n",
        "A média é o valor médio de um conjunto de dados. É calculado somando todos os valores em um conjunto de dados e dividindo pelo número de valores.\n",
        "\n",
        "### Propriedades da média\n",
        "- A soma dos desvios dos itens de sua média aritmética é sempre zero, ou seja, $∑(x – \\overline x) = 0.$\n",
        "- A soma dos desvios quadrados dos itens da Média Aritmética (A.M) é mínima, que é menor que a soma dos desvios quadrados dos itens de quaisquer outros valores.\n",
        "- Se cada item da série aritmética for substituído pela média, então a soma dessas substituições será igual à soma dos itens específicos.\n",
        "- É influenciado pelo valor de cada item da série.\n",
        "- É um valor medido e não baseado na posição na série.\n",
        "- É alterado por itens extremos, como itens muito pequenos e muito grandes. ou seja, sensível a outliers.\n",
        "- Raramente pode ser identificado por inspeção.\n",
        "- Em alguns casos, A.M. não representa o item original. Por exemplo, a média de pacientes internados em um hospital é de 10,7 por dia.\n",
        "- A média aritmética não é adequada em distribuições extremamente assimétricas."
      ],
      "metadata": {
        "id": "FfgN7YuFcHte"
      }
    },
    {
      "cell_type": "code",
      "source": [
        "data.mean()"
      ],
      "metadata": {
        "colab": {
          "base_uri": "https://localhost:8080/"
        },
        "id": "CMwQnO-yVgFC",
        "outputId": "8c5b85d0-486e-4e6a-fa0a-5db6085cc21b"
      },
      "execution_count": 16,
      "outputs": [
        {
          "output_type": "execute_result",
          "data": {
            "text/plain": [
              "18.4"
            ]
          },
          "metadata": {},
          "execution_count": 16
        }
      ]
    },
    {
      "cell_type": "markdown",
      "source": [
        "<a name='mediana'/>\n",
        "\n",
        "\n",
        "##Mediana\n",
        "A mediana é o valor do meio de um conjunto de dados quando os valores são organizados em ordem de tamanho. Representa o percentil 50 dos valores.\n",
        "\n",
        "### Propriedades da Mediana\n",
        "- A mediana não depende de todos os valores de dados em um conjunto de dados.\n",
        "- O valor mediano é fixado pela sua posição e não é refletido pelo valor individual.\n",
        "- A distância entre a mediana e o restante dos valores é menor que a distância de qualquer outro ponto.\n",
        "- Cada matriz tem uma única mediana.\n",
        "- A mediana não pode ser manipulada algebricamente. Não pode ser pesado e combinado.\n",
        "- em um procedimento de agrupamento, a mediana é estável.\n",
        "- A mediana não é aplicável a dados qualitativos.\n",
        "- Os valores devem ser agrupados e ordenados para cálculo.\n",
        "- A mediana pode ser determinada para razão, intervalo e escala ordinal.\n",
        "- Outliers e dados distorcidos têm menos impacto na mediana.\n",
        "- Se a distribuição for assimétrica, a mediana é uma medida melhor quando comparada à média."
      ],
      "metadata": {
        "id": "74O5SohocKv0"
      }
    },
    {
      "cell_type": "code",
      "source": [
        "data.median()"
      ],
      "metadata": {
        "colab": {
          "base_uri": "https://localhost:8080/"
        },
        "id": "J19NTdA5VnYu",
        "outputId": "bee41d4f-2f10-45dc-b5e6-35756abe6b6d"
      },
      "execution_count": 17,
      "outputs": [
        {
          "output_type": "execute_result",
          "data": {
            "text/plain": [
              "19.0"
            ]
          },
          "metadata": {},
          "execution_count": 17
        }
      ]
    },
    {
      "cell_type": "markdown",
      "source": [
        "<a name='moda'/>\n",
        "\n",
        "##Moda\n",
        "A moda é o valor que ocorre com mais frequência em um conjunto de dados com valores discretos.\n",
        "\n",
        "### Propriedades do Moda\n",
        "- O modo é usado quando se deseja o caso mais típico.\n",
        "- A moda pode ser usada quando os dados são nominais ou categóricos, como preferência religiosa, gênero ou filiação política.\n",
        "- A moda nem sempre é única. Um conjunto de dados pode ter mais de uma moda ou a moda pode não existir para um conjunto de dados."
      ],
      "metadata": {
        "id": "PRlJb6TXcPql"
      }
    },
    {
      "cell_type": "code",
      "source": [
        "data.mode()"
      ],
      "metadata": {
        "colab": {
          "base_uri": "https://localhost:8080/"
        },
        "id": "ZyPeGU8KVrtA",
        "outputId": "b7126e2a-d6c7-4400-db6d-1f1065c7e8ae"
      },
      "execution_count": 18,
      "outputs": [
        {
          "output_type": "execute_result",
          "data": {
            "text/plain": [
              "0    19\n",
              "1    23\n",
              "dtype: int64"
            ]
          },
          "metadata": {},
          "execution_count": 18
        }
      ]
    },
    {
      "cell_type": "markdown",
      "source": [
        "<a name='percentil'/>\n",
        "\n",
        "##Percentil\n",
        "\n",
        "Um percentil é uma medida da porcentagem de valores abaixo de um valor específico. A mediana corresponde ao percentil 50."
      ],
      "metadata": {
        "id": "wZtHdo7lcSSy"
      }
    },
    {
      "cell_type": "code",
      "source": [
        "data.quantile(0.1)"
      ],
      "metadata": {
        "colab": {
          "base_uri": "https://localhost:8080/"
        },
        "id": "dcQIEww1VyWJ",
        "outputId": "61037ec4-836b-4e3d-8120-b755015e3251"
      },
      "execution_count": 19,
      "outputs": [
        {
          "output_type": "execute_result",
          "data": {
            "text/plain": [
              "12.600000000000001"
            ]
          },
          "metadata": {},
          "execution_count": 19
        }
      ]
    },
    {
      "cell_type": "markdown",
      "source": [
        "<a name='quartil'/>\n",
        "\n",
        "##Quartil\n",
        "\n",
        "\n",
        "Um quartil é um valor que divide os valores em um conjunto de dados ordenado em quatro grupos iguais. $Q_1$ (ou o primeiro quartil) corresponde ao 25º percentil, $Q_2$ corresponde à mediana e $Q_3$ corresponde ao 75º percentil.\n",
        "\n"
      ],
      "metadata": {
        "id": "BuDBK4X7cYNb"
      }
    },
    {
      "cell_type": "code",
      "source": [
        "data = data.sort_values(ascending=True)\n",
        "data = data.reset_index(drop=True)\n",
        "Q_1 = data.quantile(0.25)\n",
        "Q_2 = data.quantile(0.5)\n",
        "Q_3 = data.quantile(0.75)\n",
        "display(Latex(f'$Q_1 = {Q_1}$'))\n",
        "display(Latex(f'$Q_2 = {Q_2}$'))\n",
        "display(Latex(f'$Q_3 = {Q_3}$'))"
      ],
      "metadata": {
        "colab": {
          "base_uri": "https://localhost:8080/",
          "height": 162
        },
        "id": "1Sc45M9tXT7Y",
        "outputId": "b64bdace-b46e-420c-c11c-4c0bf0064ec7"
      },
      "execution_count": 20,
      "outputs": [
        {
          "output_type": "display_data",
          "data": {
            "text/plain": [
              "<IPython.core.display.Latex object>"
            ],
            "text/latex": "$Q_1 = 16.5$"
          },
          "metadata": {}
        },
        {
          "output_type": "display_data",
          "data": {
            "text/plain": [
              "<IPython.core.display.Latex object>"
            ],
            "text/latex": "$Q_2 = 19.0$"
          },
          "metadata": {}
        },
        {
          "output_type": "display_data",
          "data": {
            "text/plain": [
              "<IPython.core.display.Latex object>"
            ],
            "text/latex": "$Q_3 = 22.0$"
          },
          "metadata": {}
        }
      ]
    },
    {
      "cell_type": "markdown",
      "source": [
        "\n",
        "\n",
        "##Média aparada\n",
        "Essa média é similar a média normal, mas ela não é sensivel a outliers"
      ],
      "metadata": {
        "id": "BQW3K9ThfsVj"
      }
    },
    {
      "cell_type": "code",
      "source": [
        "stats.trim_mean(data, 0.1)"
      ],
      "metadata": {
        "colab": {
          "base_uri": "https://localhost:8080/"
        },
        "id": "wM3JdKjLaMF8",
        "outputId": "7e5c625b-5044-41cb-af81-807840460fd6"
      },
      "execution_count": 21,
      "outputs": [
        {
          "output_type": "execute_result",
          "data": {
            "text/plain": [
              "18.846153846153847"
            ]
          },
          "metadata": {},
          "execution_count": 21
        }
      ]
    },
    {
      "cell_type": "markdown",
      "source": [
        "<a name='variancia'/>\n",
        "\n",
        "##Variância\n",
        "\n",
        "É uma medida de quantos valores em um conjunto de dados estão dispersos em torno do valor médio. O valor da variância é uma boa indicação de se a média é representativa dos valores no conjunto de dados. Uma pequena variação indicaria que a média é uma medida apropriada de tendência central. A seguinte fórmula dá a variância:\n",
        "$$\\sigma^2 = \\frac{\\sum (x-\\mu)^2}{N}$$\n",
        "    \n",
        "Onde $\\mu$ é a média e $N$ é o número de valores no conjunto de dados.\n",
        "\n",
        "A **Variância da amostra** é dada por:\n",
        "\n",
        "$$S^2 = \\frac{\\sum (x-\\overline x)^2}{n-1}$$\n",
        "\n",
        "Onde $\\overline x$ é a média da amostra e $n$ é o número de valores na amostra.\n"
      ],
      "metadata": {
        "id": "MxjVmSSAcR5s"
      }
    },
    {
      "cell_type": "code",
      "source": [
        "data.var()"
      ],
      "metadata": {
        "colab": {
          "base_uri": "https://localhost:8080/"
        },
        "id": "G85oPL2-a9XO",
        "outputId": "331f9ed2-5558-47fb-a7f9-6d60c0061a80"
      },
      "execution_count": 10,
      "outputs": [
        {
          "output_type": "execute_result",
          "data": {
            "text/plain": [
              "343.71666666666664"
            ]
          },
          "metadata": {},
          "execution_count": 10
        }
      ]
    },
    {
      "cell_type": "markdown",
      "source": [
        "<a name='std'/>\n",
        "\n",
        "##Desvio padrão\n",
        "\n",
        " essa medida é calculada tirando a raiz quadrada da variação. A variância não está nas mesmas unidades dos dados, pois leva o quadrado das diferenças; portanto, tomar a raiz quadrada da variância traz para as mesmas unidades que os dados. Por exemplo, em um conjunto de dados sobre a precipitação média em centímetros, a variância daria o valor em $cm^2$, que não seria interpretável, enquanto o desvio padrão em $cm$ daria uma ideia do desvio da precipitação média em centímetros."
      ],
      "metadata": {
        "id": "mpnL4Kvkcx5e"
      }
    },
    {
      "cell_type": "code",
      "source": [
        "data.std()"
      ],
      "metadata": {
        "colab": {
          "base_uri": "https://localhost:8080/"
        },
        "id": "WnpZe0nbabHI",
        "outputId": "2a970fd8-0c54-4fe9-b4c1-539f454eb615"
      },
      "execution_count": 9,
      "outputs": [
        {
          "output_type": "execute_result",
          "data": {
            "text/plain": [
              "18.53959726279583"
            ]
          },
          "metadata": {},
          "execution_count": 9
        }
      ]
    },
    {
      "cell_type": "markdown",
      "source": [
        "<a name='assim'/>\n",
        "\n",
        "##Assimetria\n",
        "\n",
        "**simétrica:** mede o grau de assimetria de uma distribuição\n",
        "\n",
        "![](https://upload.wikimedia.org/wikipedia/commons/c/cc/Relationship_between_mean_and_median_under_different_skewness.png)\n",
        "\n",
        "**assimetria positiva:** uma distribuição com distorção positiva é caracterizada por muitos valores discrepantes na região superior ou cauda direita. Diz-se que uma distribuição assimétrica positiva é assimétrica para a direita por causa de sua cauda superior (direita) relativamente longa.\n",
        "\n",
        "**assimetria negativa:** uma distribuição com distorção negativa tem uma quantidade desproporcionalmente grande de outliers que se enquadram em sua cauda inferior (esquerda). Diz-se que uma distribuição assimétrica negativa é assimétrica para a esquerda por causa de sua longa cauda inferior."
      ],
      "metadata": {
        "id": "LlLf16S-dSod"
      }
    },
    {
      "cell_type": "code",
      "source": [
        "stats.skew(data)#simetrica = 0 , assimetrica positiva > 0 e assimetrica negativa < 0"
      ],
      "metadata": {
        "colab": {
          "base_uri": "https://localhost:8080/"
        },
        "id": "VKYVfTpQaQTF",
        "outputId": "54261d38-4076-4e2e-a74c-bbff17b376e0"
      },
      "execution_count": 12,
      "outputs": [
        {
          "output_type": "execute_result",
          "data": {
            "text/plain": [
              "3.183776487515089"
            ]
          },
          "metadata": {},
          "execution_count": 12
        }
      ]
    },
    {
      "cell_type": "markdown",
      "source": [
        "<a name='curtose'/>\n",
        "\n",
        "##Curtose\n",
        "\n",
        " a curtose é uma medida que indica se uma determinada distribuição de dados é curva, pontiaguda ou plana.\n",
        "\n",
        "![](https://brewcode.stringlab.org/wp-content/uploads/2020/08/image-28.png)"
      ],
      "metadata": {
        "id": "IxS4sXsjeeUJ"
      }
    },
    {
      "cell_type": "code",
      "source": [
        "stats.kurtosis(data)#K=0,263 e é chamada de mesokurtic. Se K>0,263 a curva de distribuição é platykurtic e se K<0,263 a curva é leptokurtic. "
      ],
      "metadata": {
        "colab": {
          "base_uri": "https://localhost:8080/"
        },
        "id": "l2TwNjr-fCQG",
        "outputId": "adc2526f-9894-443f-9cfa-9ec442b825c3"
      },
      "execution_count": 14,
      "outputs": [
        {
          "output_type": "execute_result",
          "data": {
            "text/plain": [
              "9.285994517165694"
            ]
          },
          "metadata": {},
          "execution_count": 14
        }
      ]
    }
  ]
}